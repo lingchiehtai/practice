{
 "cells": [
  {
   "cell_type": "code",
   "execution_count": 1,
   "id": "b332115d",
   "metadata": {},
   "outputs": [],
   "source": [
    "# import pymysql\n",
    "\n",
    "# #刪除table中的資料\n",
    "# conn = pymysql.connect(host='localhost',port=3306,user='root',passwd='1234',charset='utf8', db='pythondb')  #連結資料庫\n",
    "\n",
    "# with conn.cursor() as cursor:\n",
    "#     sql = \"delete from TodayOrder\"\n",
    "#     cursor.execute(sql)\n",
    "#     sql = \"delete from EmployeeList\"\n",
    "#     cursor.execute(sql)\n",
    "\n",
    "#     conn.commit()"
   ]
  },
  {
   "cell_type": "code",
   "execution_count": 2,
   "id": "cad15c65",
   "metadata": {},
   "outputs": [],
   "source": [
    "import pymysql\n",
    "#刪除資料表的所有資料\n",
    "conn = pymysql.connect(host='localhost',port=3306,user='root',passwd='1234',charset='utf8', db='pythondb')  #連結資料庫\n",
    "\n",
    "with conn.cursor() as cursor:\n",
    "    sql = \"DROP TABLE IF EXISTS TodayOrder\"\n",
    "    cursor.execute(sql) \n",
    "    conn.commit()"
   ]
  },
  {
   "cell_type": "code",
   "execution_count": 3,
   "id": "c9aa81fe",
   "metadata": {},
   "outputs": [],
   "source": [
    "\n",
    "#刪除資料表的所有資料\n",
    "conn = pymysql.connect(host='localhost',port=3306,user='root',passwd='1234',charset='utf8', db='pythondb')  #連結資料庫\n",
    "\n",
    "with conn.cursor() as cursor:\n",
    "    sql = \"DROP TABLE IF EXISTS EmployeeList\"\n",
    "    cursor.execute(sql) \n",
    "    conn.commit()"
   ]
  },
  {
   "cell_type": "code",
   "execution_count": 4,
   "id": "b0400a4a",
   "metadata": {},
   "outputs": [],
   "source": [
    "#MySQL伺服器\n",
    "#Uniform Server\n",
    "\n",
    "#建立欄位 員工編號-餐廳-品項-價格-訂購日期\n",
    "conn = pymysql.connect(host='localhost',port=3306,user='root',passwd='1234',charset='utf8', db='pythondb')  \n",
    "with conn.cursor() as cursor:\n",
    "    sql = \"\"\"\n",
    "    CREATE TABLE TodayOrder (\n",
    "    EmployeeID VARCHAR(10),\n",
    "    Restaurant VARCHAR(10),\n",
    "    Item VARCHAR(10),\n",
    "    Price int(3),\n",
    "    OrderDate DATE);\n",
    "    \"\"\"\n",
    "    cursor.execute(sql)  #執行SQL指令\n",
    "    conn.commit()  #提交資料庫"
   ]
  },
  {
   "cell_type": "code",
   "execution_count": 5,
   "id": "44d29d93",
   "metadata": {
    "scrolled": true
   },
   "outputs": [
    {
     "name": "stdout",
     "output_type": "stream",
     "text": [
      "('F001', 'Res_A', 'A01', '80', '2024/6/3')\n",
      "('F002', 'Res_A', 'A02', '90', '2024/6/3')\n",
      "('F003', 'Res_A', 'A03', '100', '2024/6/3')\n",
      "('F004', 'Res_B', 'B01', '80', '2024/6/3')\n",
      "('F005', 'Res_B', 'B02', '90', '2024/6/3')\n",
      "('F006', 'Res_B', 'B03', '100', '2024/6/3')\n",
      "('F007', 'Res_B', 'B01', '80', '2024/6/3')\n",
      "('F008', 'Res_B', 'B02', '90', '2024/6/3')\n",
      "('F009', 'Res_A', 'A02', '90', '2024/6/3')\n",
      "('F010', 'Res_B', 'B02', '90', '2024/6/3')\n",
      "('F001', 'Res_B', 'B02', '90', '2024/6/10')\n",
      "('F002', 'Res_A', 'A01', '80', '2024/6/10')\n",
      "('F003', 'Res_B', 'B03', '100', '2024/6/10')\n",
      "('F004', 'Res_B', 'B01', '80', '2024/6/10')\n",
      "('F005', 'Res_A', 'A03', '100', '2024/6/10')\n",
      "('F006', 'Res_A', 'A02', '90', '2024/6/10')\n",
      "('F007', 'Res_A', 'A01', '80', '2024/6/10')\n",
      "('F008', 'Res_B', 'B02', '90', '2024/6/10')\n",
      "('F009', 'Res_B', 'B01', '80', '2024/6/10')\n",
      "('F010', 'Res_A', 'A02', '90', '2024/6/10')\n",
      "('F001', 'Res_B', 'B03', '100', '2024/6/17')\n",
      "('F002', 'Res_B', 'B01', '80', '2024/6/17')\n",
      "('F003', 'Res_A', 'A02', '90', '2024/6/17')\n",
      "('F004', 'Res_A', 'A02', '90', '2024/6/17')\n",
      "('F005', 'Res_B', 'B02', '90', '2024/6/17')\n",
      "('F006', 'Res_B', 'B01', '80', '2024/6/17')\n",
      "('F007', 'Res_B', 'B01', '80', '2024/6/17')\n",
      "('F008', 'Res_B', 'B01', '80', '2024/6/17')\n",
      "('F009', 'Res_B', 'B01', '80', '2024/6/17')\n",
      "('F010', 'Res_B', 'B01', '80', '2024/6/17')\n",
      "('F001', 'Res_B', 'B03', '100', '2024/6/24')\n",
      "('F002', 'Res_B', 'B02', '90', '2024/6/24')\n",
      "('F003', 'Res_A', 'A03', '100', '2024/6/24')\n",
      "('F004', 'Res_B', 'B01', '80', '2024/6/24')\n",
      "('F005', 'Res_B', 'B01', '80', '2024/6/24')\n",
      "('F006', 'Res_A', 'A01', '80', '2024/6/24')\n",
      "('F007', 'Res_A', 'A01', '80', '2024/6/24')\n",
      "('F008', 'Res_B', 'B01', '80', '2024/6/24')\n",
      "('F009', 'Res_A', 'A02', '90', '2024/6/24')\n",
      "('F010', 'Res_B', 'B01', '80', '2024/6/24')\n",
      "('F001', 'Res_A', 'A03', '100', '2024/7/1')\n",
      "('F002', 'Res_A', 'A03', '100', '2024/7/1')\n",
      "('F003', 'Res_B', 'B03', '90', '2024/7/1')\n",
      "('F004', 'Res_A', 'A02', '90', '2024/7/1')\n",
      "('F005', 'Res_A', 'A02', '90', '2024/7/1')\n",
      "('F006', 'Res_B', 'B03', '100', '2024/7/1')\n",
      "('F007', 'Res_B', 'B03', '100', '2024/7/1')\n",
      "('F008', 'Res_B', 'B03', '100', '2024/7/1')\n",
      "('F009', 'Res_A', 'A03', '100', '2024/7/1')\n",
      "('F010', 'Res_A', 'A02', '90', '2024/7/1')\n",
      "('F001', 'Res_B', 'B01', '80', '2024/7/8')\n",
      "('F002', 'Res_B', 'B02', '90', '2024/7/8')\n",
      "('F003', 'Res_B', 'B03', '100', '2024/7/8')\n",
      "('F004', 'Res_B', 'B01', '80', '2024/7/8')\n",
      "('F005', 'Res_B', 'B01', '80', '2024/7/8')\n",
      "('F006', 'Res_B', 'B02', '90', '2024/7/8')\n",
      "('F007', 'Res_B', 'B03', '100', '2024/7/8')\n",
      "('F008', 'Res_B', 'B03', '100', '2024/7/8')\n",
      "('F009', 'Res_B', 'B02', '90', '2024/7/8')\n",
      "('F010', 'Res_B', 'B03', '100', '2024/7/8')\n"
     ]
    }
   ],
   "source": [
    "#讀取csv檔，匯入database中的table\n",
    "import csv\n",
    "csv_filename = 'MySQL_order_lunch.csv'\n",
    "\n",
    "with open(csv_filename) as f:\n",
    "    reader = csv.reader(f)\n",
    "    order_list = list(reader)\n",
    "   \n",
    "conn = pymysql.connect(host='localhost',port=3306,user='root',passwd='1234',charset='utf8', db='pythondb')  \n",
    "with conn.cursor() as cursor:\n",
    "    for i in range(1, len(order_list)):\n",
    "        data = tuple(order_list[i])\n",
    "        print(data)\n",
    "        sql = f'INSERT INTO TodayOrder(EmployeeID, Restaurant, Item, Price, OrderDate) VALUES {data}'\n",
    "        cursor.execute(sql)  #執行SQL指令\n",
    "        conn.commit()  #提交資料庫"
   ]
  },
  {
   "cell_type": "code",
   "execution_count": 6,
   "id": "f5535edf",
   "metadata": {},
   "outputs": [],
   "source": [
    "#建立欄位 員工編號-姓名-部門\n",
    "conn = pymysql.connect(host='localhost',port=3306,user='root',passwd='1234',charset='utf8', db='pythondb')  \n",
    "with conn.cursor() as cursor:\n",
    "    sql = \"\"\"\n",
    "    CREATE TABLE EmployeeList (\n",
    "    EmployeeID VARCHAR(10),\n",
    "    Name VARCHAR(10),\n",
    "    Department VARCHAR(10)\n",
    ");\n",
    "    \"\"\"\n",
    "    cursor.execute(sql)  #執行SQL指令\n",
    "    conn.commit()  #提交資料庫\n",
    "    \n",
    "    "
   ]
  },
  {
   "cell_type": "code",
   "execution_count": 7,
   "id": "9c4ca8e1",
   "metadata": {},
   "outputs": [
    {
     "name": "stdout",
     "output_type": "stream",
     "text": [
      "('F001', 'Lin1', 'dep-F')\n",
      "('F002', 'Chang', 'dep-G')\n",
      "('F003', 'Tseng', 'dep-G')\n",
      "('F004', 'Liu', 'dep-A')\n",
      "('F005', 'Tseng2', 'dep-F')\n",
      "('F006', 'Lin2', 'dep-A')\n",
      "('F007', 'Chang2', 'dep-A')\n",
      "('F008', 'Chang3', 'dep-F')\n",
      "('F009', 'Lin3', 'dep-B')\n",
      "('F010', 'Tseng3', 'dep-G')\n"
     ]
    }
   ],
   "source": [
    "#讀取csv檔，匯入database中的table\n",
    "csv_filename = 'MySQL_order_lunch_ID_name_department.csv'\n",
    "\n",
    "with open(csv_filename) as f:\n",
    "    reader = csv.reader(f)\n",
    "    order_list = list(reader)\n",
    "   \n",
    "conn = pymysql.connect(host='localhost',port=3306,user='root',passwd='1234',charset='utf8', db='pythondb')  \n",
    "with conn.cursor() as cursor:\n",
    "    for i in range(1, len(order_list)):\n",
    "        data = tuple(order_list[i])\n",
    "        print(data)\n",
    "        sql = f'INSERT INTO EmployeeList(EmployeeID, Name, Department) VALUES {data}'\n",
    "        cursor.execute(sql)  #執行SQL指令\n",
    "        conn.commit()  #提交資料庫"
   ]
  },
  {
   "cell_type": "code",
   "execution_count": 8,
   "id": "857239ee",
   "metadata": {},
   "outputs": [
    {
     "name": "stdout",
     "output_type": "stream",
     "text": [
      "EmployeeID Price_thisMonth\n",
      "      F001             370\n",
      "      F002             340\n",
      "      F003             390\n",
      "      F004             330\n",
      "      F005             360\n",
      "      F006             350\n",
      "      F007             320\n",
      "      F008             340\n",
      "      F009             340\n",
      "      F010             340\n"
     ]
    }
   ],
   "source": [
    "#每一位員工的6月餐費\n",
    "import pandas as pd\n",
    "\n",
    "conn = pymysql.connect(host='localhost',port=3306,user='root',passwd='1234',charset='utf8', db='pythondb')  \n",
    "with conn.cursor() as cursor:\n",
    "    sql = \"\"\"\n",
    "    SELECT EmployeeID, sum(Price) as Price_thisMonth\n",
    "    FROM TodayOrder\n",
    "    WHERE Month(OrderDate)=6\n",
    "    GROUP BY EmployeeID;\n",
    "    \"\"\"\n",
    "    cols=['EmployeeID', 'Price_thisMonth']\n",
    "    cursor.execute(sql)  #執行SQL指令\n",
    "    datas = cursor.fetchall()   \n",
    "    df = pd.DataFrame(datas, columns=cols)\n",
    "    print(df.to_string(index=False))\n"
   ]
  },
  {
   "cell_type": "code",
   "execution_count": 9,
   "id": "3806c179",
   "metadata": {},
   "outputs": [
    {
     "name": "stdout",
     "output_type": "stream",
     "text": [
      "EmployeeID   Name Department MonthlyPrice\n",
      "      F001   Lin1      dep-F          370\n",
      "      F002  Chang      dep-G          340\n",
      "      F003  Tseng      dep-G          390\n",
      "      F004    Liu      dep-A          330\n",
      "      F005 Tseng2      dep-F          360\n",
      "      F006   Lin2      dep-A          350\n",
      "      F007 Chang2      dep-A          320\n",
      "      F008 Chang3      dep-F          340\n",
      "      F009   Lin3      dep-B          340\n",
      "      F010 Tseng3      dep-G          340\n"
     ]
    }
   ],
   "source": [
    "#每一位員工的6月餐費;合併另一個table的information\n",
    "\n",
    "conn = pymysql.connect(host='localhost',port=3306,user='root',passwd='1234',charset='utf8', db='pythondb')  \n",
    "with conn.cursor() as cursor:\n",
    "    sql = \"\"\"\n",
    "    SELECT TA.EmployeeID, Name, Department, sum(Price) as MonthlyPrice\n",
    "    FROM TodayOrder TA LEFT JOIN EmployeeList TB\n",
    "    ON TA.EmployeeID=TB.EmployeeID\n",
    "    WHERE Month(OrderDate)=6 \n",
    "    GROUP BY TA.EmployeeID, Name, Department;\n",
    "    \"\"\"\n",
    "    cols=['EmployeeID', 'Name', 'Department', 'MonthlyPrice']\n",
    "    cursor.execute(sql)  #執行SQL指令\n",
    "    datas = cursor.fetchall()   \n",
    "    df = pd.DataFrame(datas, columns=cols)\n",
    "    print(df.to_string(index=False))\n"
   ]
  },
  {
   "cell_type": "code",
   "execution_count": 10,
   "id": "f440f1c8",
   "metadata": {},
   "outputs": [
    {
     "name": "stdout",
     "output_type": "stream",
     "text": [
      "Meal-Item Restaurant  COUNT(Item)\n",
      "      B01      Res_B           17\n",
      "      B03      Res_B           12\n",
      "      A02      Res_A           10\n",
      "      B02      Res_B           10\n",
      "      A03      Res_A            6\n",
      "      A01      Res_A            5\n"
     ]
    }
   ],
   "source": [
    "#受歡迎的餐點排行\n",
    "import pymysql\n",
    "import pandas as pd\n",
    "\n",
    "conn = pymysql.connect(host='localhost',port=3306,user='root',passwd='1234',charset='utf8', db='pythondb')  \n",
    "with conn.cursor() as cursor:\n",
    "    sql = \"\"\"\n",
    "    SELECT Item, Restaurant, COUNT(Item)\n",
    "    FROM TodayOrder\n",
    "    GROUP BY Restaurant, Item\n",
    "    ORDER BY COUNT(Item) DESC;\n",
    "    \"\"\"\n",
    "    cols=['Meal-Item', 'Restaurant', 'COUNT(Item)']\n",
    "    cursor.execute(sql)  #執行SQL指令\n",
    "    datas = cursor.fetchall()   \n",
    "    df = pd.DataFrame(datas, columns=cols)\n",
    "    print(df.to_string(index=False))"
   ]
  },
  {
   "cell_type": "code",
   "execution_count": 11,
   "id": "5330e699",
   "metadata": {},
   "outputs": [
    {
     "name": "stdout",
     "output_type": "stream",
     "text": [
      "Meal-Item  COUNT(Item)\n",
      "    Res_B           39\n",
      "    Res_A           21\n"
     ]
    }
   ],
   "source": [
    "#受歡迎的餐聽排行\n",
    "import pymysql\n",
    "import pandas as pd\n",
    "\n",
    "conn = pymysql.connect(host='localhost',port=3306,user='root',passwd='1234',charset='utf8', db='pythondb')  \n",
    "with conn.cursor() as cursor:\n",
    "    sql = \"\"\"\n",
    "    SELECT Restaurant, COUNT(Restaurant)\n",
    "    FROM TodayOrder\n",
    "    GROUP BY Restaurant\n",
    "    ORDER BY COUNT(Restaurant) DESC\n",
    "    ;\n",
    "    \"\"\"\n",
    "    cols=['Meal-Item','COUNT(Item)']\n",
    "    cursor.execute(sql)  #執行SQL指令\n",
    "    datas = cursor.fetchall()   \n",
    "    df = pd.DataFrame(datas, columns=cols)\n",
    "    print(df.to_string(index=False))"
   ]
  }
 ],
 "metadata": {
  "kernelspec": {
   "display_name": "Python 3 (ipykernel)",
   "language": "python",
   "name": "python3"
  },
  "language_info": {
   "codemirror_mode": {
    "name": "ipython",
    "version": 3
   },
   "file_extension": ".py",
   "mimetype": "text/x-python",
   "name": "python",
   "nbconvert_exporter": "python",
   "pygments_lexer": "ipython3",
   "version": "3.11.5"
  }
 },
 "nbformat": 4,
 "nbformat_minor": 5
}
